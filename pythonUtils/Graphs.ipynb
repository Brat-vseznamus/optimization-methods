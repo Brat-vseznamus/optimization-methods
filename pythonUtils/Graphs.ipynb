{
 "cells": [
  {
   "cell_type": "code",
   "execution_count": 1,
   "metadata": {
    "scrolled": true
   },
   "outputs": [],
   "source": [
    "import numpy as np\n",
    "import matplotlib.pyplot as plt\n",
    "from statistics import mean"
   ]
  },
  {
   "cell_type": "code",
   "execution_count": null,
   "metadata": {
    "scrolled": false
   },
   "outputs": [],
   "source": [
    "import numpy as np\n",
    "import matplotlib.pyplot as plt\n",
    "\n",
    "fig, ax = plt.subplots()\n",
    "\n",
    "fileName = \"classic\"\n",
    "\n",
    "functionOfLevels=\"\"\n",
    "\n",
    "with open(\"iterations/\" + fileName + \"_iter.txt\") as f:\n",
    "    lines = f.readlines()\n",
    "    functionOfLevels = lines[0]\n",
    "    xG = [line.split(' ')[0] for line in lines[1:]]\n",
    "    yG = [line.split(' ')[1] for line in lines[1:]]\n",
    " \n",
    "xG = list(map(lambda x: float(x.replace(\",\", \".\")), xG))\n",
    "yG = list(map(lambda x: float(x.replace(\",\", \".\")), yG))\n",
    "\n",
    "mxX, mnX, mxY, mnY = max(xG), min(xG), max(yG), min(yG)\n",
    "\n",
    "plt.plot(xG, yG, 'yo-', linewidth=8, ms=15)\n",
    "\n",
    "#ax.set_xlim([0,20])\n",
    "#ax.set_ylim([-1,1])\n",
    "\n",
    "additionalSpace = 1\n",
    "\n",
    "xf = np.arange(mnX - additionalSpace, mxX + additionalSpace, 0.01)\n",
    "yf = np.arange(mnY - additionalSpace, mxY + additionalSpace, 0.01)\n",
    "\n",
    "x1, x2 = np.meshgrid(xf, yf)\n",
    "\n",
    "z = eval(functionOfLevels)\n",
    "\n",
    "\n",
    "\n",
    "cs = ax.contourf(x1, x2, z, levels = 30)\n",
    "#ax.clabel(cs)\n",
    "fig.set_figwidth(20)    #  ширина и\n",
    "fig.set_figheight(20)    #  высота \"Figure\"\n",
    "\n",
    "plt.savefig(\"pics/\" + fileName + '.png')\n",
    "plt.show()"
   ]
  },
  {
   "cell_type": "code",
   "execution_count": 40,
   "metadata": {},
   "outputs": [
    {
     "data": {
      "text/plain": [
       "'1223'"
      ]
     },
     "execution_count": 40,
     "metadata": {},
     "output_type": "execute_result"
    }
   ],
   "source": []
  },
  {
   "cell_type": "code",
   "execution_count": null,
   "metadata": {},
   "outputs": [],
   "source": []
  }
 ],
 "metadata": {
  "kernelspec": {
   "display_name": "Python 3",
   "language": "python",
   "name": "python3"
  },
  "language_info": {
   "codemirror_mode": {
    "name": "ipython",
    "version": 3
   },
   "file_extension": ".py",
   "mimetype": "text/x-python",
   "name": "python",
   "nbconvert_exporter": "python",
   "pygments_lexer": "ipython3",
   "version": "3.8.3"
  }
 },
 "nbformat": 4,
 "nbformat_minor": 4
}
